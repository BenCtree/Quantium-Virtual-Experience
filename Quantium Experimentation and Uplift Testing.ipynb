{
 "cells": [
  {
   "cell_type": "markdown",
   "metadata": {},
   "source": [
    "# Quantium Experimentation and Uplift Testing\n",
    "\n",
    "#### Ben Crabtree"
   ]
  },
  {
   "cell_type": "code",
   "execution_count": 3,
   "metadata": {},
   "outputs": [],
   "source": [
    "import pandas as pd\n",
    "import numpy as np\n",
    "from datetime import datetime, timedelta\n",
    "import xlrd\n",
    "\n",
    "import matplotlib.pyplot as plt\n",
    "import seaborn as sns\n",
    "\n",
    "from scipy import stats\n",
    "\n",
    "import warnings\n",
    "warnings.filterwarnings('ignore')"
   ]
  },
  {
   "cell_type": "code",
   "execution_count": 4,
   "metadata": {},
   "outputs": [],
   "source": [
    "data = pd.read_csv('data.csv')"
   ]
  },
  {
   "cell_type": "markdown",
   "metadata": {},
   "source": [
    "### Performance Metrics\n",
    "\n",
    "We would like to determine the effectiveness of new trial layouts in trial stores 77, 86 and 88 for the trial period of February 2019 to April 2019. We would like to measure the performance of these stores on three metrics:\n",
    "\n",
    "- Total sales revenue\n",
    "- Total number of customers\n",
    "- Average number of transactions per customer\n",
    "\n",
    "We will calculate these by month over the period of interest.\n",
    "\n",
    "Firstly, we order the rows in terms of date, making sure the date column is in datetime format. Then, we create a year-month column of the form YYYY-MM. This will allow us to define a function to calculate a given metric month by month for a certain store, returning these monthly calculations as a vector. These vectors will be of the same length for each store (the number of months in the period of interest), allowing us to compare different stores on a given metric using the Pearson correlation coefficient.  We can define such a function for each of the metrics above."
   ]
  },
  {
   "cell_type": "markdown",
   "metadata": {},
   "source": [
    "#### Order By Date"
   ]
  },
  {
   "cell_type": "code",
   "execution_count": 5,
   "metadata": {},
   "outputs": [],
   "source": [
    "data = data.sort_values(by=['DATE'])"
   ]
  },
  {
   "cell_type": "markdown",
   "metadata": {},
   "source": [
    "#### Convert Date Column To Datetime Type"
   ]
  },
  {
   "cell_type": "code",
   "execution_count": 6,
   "metadata": {},
   "outputs": [],
   "source": [
    "data['DATE'] = pd.to_datetime(data['DATE']) "
   ]
  },
  {
   "cell_type": "markdown",
   "metadata": {},
   "source": [
    "#### Create Year-Month Column"
   ]
  },
  {
   "cell_type": "code",
   "execution_count": 7,
   "metadata": {
    "scrolled": false
   },
   "outputs": [
    {
     "data": {
      "text/html": [
       "<div>\n",
       "<style scoped>\n",
       "    .dataframe tbody tr th:only-of-type {\n",
       "        vertical-align: middle;\n",
       "    }\n",
       "\n",
       "    .dataframe tbody tr th {\n",
       "        vertical-align: top;\n",
       "    }\n",
       "\n",
       "    .dataframe thead th {\n",
       "        text-align: right;\n",
       "    }\n",
       "</style>\n",
       "<table border=\"1\" class=\"dataframe\">\n",
       "  <thead>\n",
       "    <tr style=\"text-align: right;\">\n",
       "      <th></th>\n",
       "      <th>DATE</th>\n",
       "      <th>STORE_NBR</th>\n",
       "      <th>LYLTY_CARD_NBR</th>\n",
       "      <th>TXN_ID</th>\n",
       "      <th>PROD_NBR</th>\n",
       "      <th>PROD_NAME</th>\n",
       "      <th>PROD_QTY</th>\n",
       "      <th>TOT_SALES</th>\n",
       "      <th>LIFESTAGE</th>\n",
       "      <th>PREMIUM_CUSTOMER</th>\n",
       "      <th>BRAND</th>\n",
       "      <th>PACK_SIZE</th>\n",
       "      <th>YEAR_MONTH</th>\n",
       "    </tr>\n",
       "  </thead>\n",
       "  <tbody>\n",
       "    <tr>\n",
       "      <th>22186</th>\n",
       "      <td>2018-07-01</td>\n",
       "      <td>207</td>\n",
       "      <td>207118</td>\n",
       "      <td>205283</td>\n",
       "      <td>39</td>\n",
       "      <td>Smiths Crinkle Cut  Tomato Salsa 150g</td>\n",
       "      <td>2</td>\n",
       "      <td>5.2</td>\n",
       "      <td>MIDAGE SINGLES/COUPLES</td>\n",
       "      <td>Premium</td>\n",
       "      <td>Smiths</td>\n",
       "      <td>150</td>\n",
       "      <td>2018-07</td>\n",
       "    </tr>\n",
       "    <tr>\n",
       "      <th>23251</th>\n",
       "      <td>2018-07-01</td>\n",
       "      <td>251</td>\n",
       "      <td>251207</td>\n",
       "      <td>253270</td>\n",
       "      <td>63</td>\n",
       "      <td>Kettle 135g Swt Pot Sea Salt</td>\n",
       "      <td>2</td>\n",
       "      <td>8.4</td>\n",
       "      <td>MIDAGE SINGLES/COUPLES</td>\n",
       "      <td>Premium</td>\n",
       "      <td>Kettle</td>\n",
       "      <td>135</td>\n",
       "      <td>2018-07</td>\n",
       "    </tr>\n",
       "    <tr>\n",
       "      <th>133354</th>\n",
       "      <td>2018-07-01</td>\n",
       "      <td>75</td>\n",
       "      <td>75163</td>\n",
       "      <td>74054</td>\n",
       "      <td>20</td>\n",
       "      <td>Doritos Cheese      Supreme 330g</td>\n",
       "      <td>2</td>\n",
       "      <td>11.4</td>\n",
       "      <td>RETIREES</td>\n",
       "      <td>Budget</td>\n",
       "      <td>Doritos</td>\n",
       "      <td>330</td>\n",
       "      <td>2018-07</td>\n",
       "    </tr>\n",
       "    <tr>\n",
       "      <th>23305</th>\n",
       "      <td>2018-07-01</td>\n",
       "      <td>255</td>\n",
       "      <td>255451</td>\n",
       "      <td>255072</td>\n",
       "      <td>114</td>\n",
       "      <td>Kettle Sensations   Siracha Lime 150g</td>\n",
       "      <td>1</td>\n",
       "      <td>4.6</td>\n",
       "      <td>MIDAGE SINGLES/COUPLES</td>\n",
       "      <td>Premium</td>\n",
       "      <td>Kettle</td>\n",
       "      <td>150</td>\n",
       "      <td>2018-07</td>\n",
       "    </tr>\n",
       "    <tr>\n",
       "      <th>217278</th>\n",
       "      <td>2018-07-01</td>\n",
       "      <td>24</td>\n",
       "      <td>24151</td>\n",
       "      <td>21152</td>\n",
       "      <td>62</td>\n",
       "      <td>Pringles Mystery    Flavour 134g</td>\n",
       "      <td>2</td>\n",
       "      <td>7.4</td>\n",
       "      <td>YOUNG SINGLES/COUPLES</td>\n",
       "      <td>Budget</td>\n",
       "      <td>Pringles</td>\n",
       "      <td>134</td>\n",
       "      <td>2018-07</td>\n",
       "    </tr>\n",
       "  </tbody>\n",
       "</table>\n",
       "</div>"
      ],
      "text/plain": [
       "             DATE  STORE_NBR  LYLTY_CARD_NBR  TXN_ID  PROD_NBR  \\\n",
       "22186  2018-07-01        207          207118  205283        39   \n",
       "23251  2018-07-01        251          251207  253270        63   \n",
       "133354 2018-07-01         75           75163   74054        20   \n",
       "23305  2018-07-01        255          255451  255072       114   \n",
       "217278 2018-07-01         24           24151   21152        62   \n",
       "\n",
       "                                    PROD_NAME  PROD_QTY  TOT_SALES  \\\n",
       "22186   Smiths Crinkle Cut  Tomato Salsa 150g         2        5.2   \n",
       "23251            Kettle 135g Swt Pot Sea Salt         2        8.4   \n",
       "133354       Doritos Cheese      Supreme 330g         2       11.4   \n",
       "23305   Kettle Sensations   Siracha Lime 150g         1        4.6   \n",
       "217278       Pringles Mystery    Flavour 134g         2        7.4   \n",
       "\n",
       "                     LIFESTAGE PREMIUM_CUSTOMER     BRAND  PACK_SIZE  \\\n",
       "22186   MIDAGE SINGLES/COUPLES          Premium    Smiths        150   \n",
       "23251   MIDAGE SINGLES/COUPLES          Premium    Kettle        135   \n",
       "133354                RETIREES           Budget   Doritos        330   \n",
       "23305   MIDAGE SINGLES/COUPLES          Premium    Kettle        150   \n",
       "217278   YOUNG SINGLES/COUPLES           Budget  Pringles        134   \n",
       "\n",
       "       YEAR_MONTH  \n",
       "22186     2018-07  \n",
       "23251     2018-07  \n",
       "133354    2018-07  \n",
       "23305     2018-07  \n",
       "217278    2018-07  "
      ]
     },
     "execution_count": 7,
     "metadata": {},
     "output_type": "execute_result"
    }
   ],
   "source": [
    "data['YEAR_MONTH'] = pd.to_datetime(data['DATE']).dt.to_period('M')\n",
    "data.head()"
   ]
  },
  {
   "cell_type": "markdown",
   "metadata": {},
   "source": [
    "#### Define Functions to Calculate Monthly Metrics For a Given Store"
   ]
  },
  {
   "cell_type": "code",
   "execution_count": 8,
   "metadata": {},
   "outputs": [],
   "source": [
    "def total_sales(store_data):\n",
    "    '''\n",
    "    Input: Takes a dataframe store_data which is filtered on a particular store number\n",
    "    Returns: A vector containing the total sales by month for that store\n",
    "    '''\n",
    "    sales = [] \n",
    "    months = store_data.YEAR_MONTH.unique()\n",
    "    for month in months:\n",
    "        month_data = store_data[store_data.YEAR_MONTH == month]\n",
    "        revenue = round(month_data.TOT_SALES.sum(), 2)\n",
    "        sales.append(revenue)\n",
    "    return pd.Series(sales)\n",
    "\n",
    "def total_customers(store_data):\n",
    "    '''\n",
    "    Input: Takes a dataframe store_data which is filtered on a particular store number\n",
    "    Returns: A vector containing the number of unique customers by month for that store\n",
    "    '''\n",
    "    customers = [] \n",
    "    months = store_data.YEAR_MONTH.unique()\n",
    "    for month in months:\n",
    "        month_data = store_data[store_data.YEAR_MONTH == month]\n",
    "        num_cust = len(month_data.LYLTY_CARD_NBR.unique())\n",
    "        customers.append(num_cust)\n",
    "    return pd.Series(customers)\n",
    "\n",
    "def avg_transactions(store_data):\n",
    "    '''\n",
    "    Input: Takes a dataframe store_data which is filtered on a particular store number\n",
    "    Returns: A vector containing the average number of transactions per customer by month\n",
    "             for that store calculated by (number of transactions / number of unique customers)\n",
    "    '''\n",
    "    transactions = [] \n",
    "    months = store_data.YEAR_MONTH.unique()\n",
    "    for month in months:\n",
    "        month_data = store_data[store_data.YEAR_MONTH == month]\n",
    "        avg_trans = len(month_data) / len(month_data.LYLTY_CARD_NBR.unique())\n",
    "        transactions.append(round(avg_trans, 2))\n",
    "    return pd.Series(transactions)"
   ]
  },
  {
   "cell_type": "markdown",
   "metadata": {},
   "source": [
    "### Choosing Control Stores\n",
    "\n",
    "In order to determine if the trial stores perform better on the metrics we have defined, we will assign a control store (in which there is no new layout) to each trial store to make the comparison.\n",
    "\n",
    "When choosing a corresponding control store for each trial store we want to choose a control store that is similar to the trial store in terms of performance in the pre-trial period of July 2018 to January 2019. Then, we can compare if and how performance diverges during the trial period. Since our dataset is sampled from the period July 2018 to June 2019, this should not be a problem.\n",
    "\n",
    "We split the data into the pre-trial period (July 2018 to January 2019) and trial period (February 2019 to April 2019). Then for each period we separate out the three trial stores from the potential controls.\n",
    "\n",
    "In order to form optimal trial-control pairings for each trial store, we make pairwise comparisons between each trial store and each potential control store to determine similarity using the monthly metric functions defined above. Over the pre-trial period we will determine the correlation between pairs of stores on the metrics:\n",
    "\n",
    "- Total sales revenue\n",
    "- Total number of customers\n",
    "\n",
    "We calculate both these metrics by month for each (potential control, trial) pair.\n",
    "\n",
    "Then for each trial store, we will select the control store that has the highest correlation, averaged over the 2 correlation coefficients calculated, giving us 3 optimal trial-control pairs."
   ]
  },
  {
   "cell_type": "markdown",
   "metadata": {},
   "source": [
    "#### Set Date Column as Index"
   ]
  },
  {
   "cell_type": "code",
   "execution_count": 9,
   "metadata": {},
   "outputs": [],
   "source": [
    "data = data.set_index(['DATE'])"
   ]
  },
  {
   "cell_type": "markdown",
   "metadata": {},
   "source": [
    "#### Split Data Into Pre-Trial and Trial Periods"
   ]
  },
  {
   "cell_type": "code",
   "execution_count": 10,
   "metadata": {},
   "outputs": [],
   "source": [
    "pre_trial = data.loc['2018-07-01' : '2019-01-31']\n",
    "trial = data.loc['2019-02-01' : '2019-04-30']"
   ]
  },
  {
   "cell_type": "markdown",
   "metadata": {},
   "source": [
    "#### Separate Control Candidates from Trial Stores "
   ]
  },
  {
   "cell_type": "code",
   "execution_count": 11,
   "metadata": {
    "scrolled": false
   },
   "outputs": [
    {
     "name": "stdout",
     "output_type": "stream",
     "text": [
      "305\n",
      "845\n",
      "1028\n"
     ]
    }
   ],
   "source": [
    "pretrial_candidates = pre_trial.loc[(pre_trial['STORE_NBR'] != 77) & (pre_trial['STORE_NBR'] != 86) & (pre_trial['STORE_NBR'] != 88)]\n",
    "\n",
    "pre_store_nums = np.sort(pretrial_candidates.STORE_NBR.unique())\n",
    "\n",
    "pretrial_77 = pre_trial.loc[pre_trial['STORE_NBR'] == 77]\n",
    "pretrial_86 = pre_trial.loc[pre_trial['STORE_NBR'] == 86]\n",
    "pretrial_88 = pre_trial.loc[pre_trial['STORE_NBR'] == 88]\n",
    "\n",
    "print(len(pretrial_77))\n",
    "print(len(pretrial_86))\n",
    "print(len(pretrial_88))"
   ]
  },
  {
   "cell_type": "code",
   "execution_count": 12,
   "metadata": {},
   "outputs": [
    {
     "name": "stdout",
     "output_type": "stream",
     "text": [
      "142\n",
      "387\n",
      "470\n"
     ]
    }
   ],
   "source": [
    "trial_candidates = trial.loc[(trial['STORE_NBR'] != 77) & (trial['STORE_NBR'] != 86) & (trial['STORE_NBR'] != 88)]\n",
    "\n",
    "trial_store_nums = np.sort(trial_candidates.STORE_NBR.unique())\n",
    "\n",
    "trial_77 = trial.loc[trial['STORE_NBR'] == 77]\n",
    "trial_86 = trial.loc[trial['STORE_NBR'] == 86]\n",
    "trial_88 = trial.loc[trial['STORE_NBR'] == 88]\n",
    "\n",
    "print(len(trial_77))\n",
    "print(len(trial_86))\n",
    "print(len(trial_88))"
   ]
  },
  {
   "cell_type": "markdown",
   "metadata": {},
   "source": [
    "We check to make sure that we have the same set of stores in the pretrial and trial periods and find that in the pretrial period stores 11, 31, 76 and 85 appear but in the trial period they don't. We can filter these out as candidates as we need stores for which we have data across both periods."
   ]
  },
  {
   "cell_type": "code",
   "execution_count": 13,
   "metadata": {
    "scrolled": false
   },
   "outputs": [
    {
     "data": {
      "text/plain": [
       "{11, 31, 76, 85}"
      ]
     },
     "execution_count": 13,
     "metadata": {},
     "output_type": "execute_result"
    }
   ],
   "source": [
    "set(pre_store_nums) - set(trial_store_nums)"
   ]
  },
  {
   "cell_type": "code",
   "execution_count": 14,
   "metadata": {},
   "outputs": [],
   "source": [
    "pretrial_candidates = pretrial_candidates.loc[(pretrial_candidates['STORE_NBR'] != 11) & (pretrial_candidates['STORE_NBR'] != 31) & (pretrial_candidates['STORE_NBR'] != 76) & (pretrial_candidates['STORE_NBR'] != 85)]\n",
    "pre_store_nums = np.sort(pretrial_candidates.STORE_NBR.unique())\n",
    "#print(pre_store_nums)"
   ]
  },
  {
   "cell_type": "markdown",
   "metadata": {},
   "source": [
    "#### Make Pairwise Comparisons Between Control Candidates and Trial Stores"
   ]
  },
  {
   "cell_type": "code",
   "execution_count": 71,
   "metadata": {},
   "outputs": [],
   "source": [
    "def max_correlation(trial_data, store_nums):\n",
    "    \n",
    "    '''\n",
    "    Input: A dataframe trial_data which contains rows filtered on a particular trial store.\n",
    "           A list of store numbers store_nums for comparison with the trial store\n",
    "    \n",
    "    Output: A tuple of the form:\n",
    "            \n",
    "            (store number, sales correlation, customer correlateion, avg correlation)\n",
    "            \n",
    "            The tuple returned has the largest average correlation (last element)\n",
    "            out of all the pairwise comparisons made.\n",
    "            \n",
    "            The average correlation is taken over the 2 correlation coefficients calculated,\n",
    "            one for total sales and the other for total customers.\n",
    "\n",
    "    '''\n",
    "    \n",
    "    avg_corrs = []\n",
    "    \n",
    "    trial_sales = total_sales(trial_data)\n",
    "    trial_customers = total_customers(trial_data)\n",
    "    \n",
    "    for num in store_nums:\n",
    "        candidate_data = data.loc[data['STORE_NBR'] == num]\n",
    "        \n",
    "        candidate_sales = total_sales(candidate_data)\n",
    "        candidate_customers = total_customers(candidate_data)\n",
    "        \n",
    "        sales_corr = round(trial_sales.corr(candidate_sales), 2)\n",
    "        customers_corr = round(trial_customers.corr(candidate_customers), 2)\n",
    "        \n",
    "        avg_corrs.append( (num, sales_corr, customers_corr, round((sales_corr + customers_corr)/2, 2)) )\n",
    "        \n",
    "    return max(avg_corrs,key=lambda item:item[3])"
   ]
  },
  {
   "cell_type": "markdown",
   "metadata": {},
   "source": [
    "#### Find the Optimal Control Store for Each Trial Store"
   ]
  },
  {
   "cell_type": "markdown",
   "metadata": {},
   "source": [
    "Using the max correlation function, we see that the highest average correlations across the total sales and total customer metrics are:\n",
    "- Store 77 with Store 233\n",
    "- Store 86 with Store 114\n",
    "- Store 88 with store 14\n",
    "\n",
    "So these are the trial store, control store pairings we will examine using data from the trial period."
   ]
  },
  {
   "cell_type": "code",
   "execution_count": 72,
   "metadata": {},
   "outputs": [
    {
     "data": {
      "text/plain": [
       "(233, 0.98, 0.96, 0.97)"
      ]
     },
     "execution_count": 72,
     "metadata": {},
     "output_type": "execute_result"
    }
   ],
   "source": [
    "max_correlation(pretrial_77, pre_store_nums)"
   ]
  },
  {
   "cell_type": "code",
   "execution_count": 73,
   "metadata": {},
   "outputs": [
    {
     "data": {
      "text/plain": [
       "(114, 0.8, 0.88, 0.84)"
      ]
     },
     "execution_count": 73,
     "metadata": {},
     "output_type": "execute_result"
    }
   ],
   "source": [
    "max_correlation(pretrial_86, pre_store_nums)"
   ]
  },
  {
   "cell_type": "code",
   "execution_count": 74,
   "metadata": {},
   "outputs": [
    {
     "data": {
      "text/plain": [
       "(14, 0.6, 0.98, 0.79)"
      ]
     },
     "execution_count": 74,
     "metadata": {},
     "output_type": "execute_result"
    }
   ],
   "source": [
    "max_correlation(pretrial_88, pre_store_nums)"
   ]
  },
  {
   "cell_type": "markdown",
   "metadata": {},
   "source": [
    "#### Line Plots Verifying Correlation\n",
    "\n",
    "We can verify the correlations on each metric between the trial-control store pairs visually by making line plots over the pre-trial period. The lines with o's represent the trial store and the lines with x's represent the control stores. We see that for most trial-control pairs the correlations are quite close. But there appears to be quite a large gap in the metrics for trial store 88 and control store 14 even though they are a highly correlated pair across the total sales and total customers metrics."
   ]
  },
  {
   "cell_type": "code",
   "execution_count": 19,
   "metadata": {},
   "outputs": [],
   "source": [
    "pretrial_233 = pre_trial.loc[pre_trial['STORE_NBR'] == 233]\n",
    "\n",
    "pretrial77_sales = total_sales(pretrial_77)\n",
    "pretrial233_sales = total_sales(pretrial_233)\n",
    "\n",
    "pretrial77_customers = total_customers(pretrial_77)\n",
    "pretrial233_customers = total_customers(pretrial_233)"
   ]
  },
  {
   "cell_type": "code",
   "execution_count": 93,
   "metadata": {},
   "outputs": [
    {
     "data": {
      "text/plain": [
       "Text(0.5,1,'Total Sales in Pretrial Period')"
      ]
     },
     "execution_count": 93,
     "metadata": {},
     "output_type": "execute_result"
    },
    {
     "data": {
      "image/png": "[encoded data removed]",
      "text/plain": [
       "<Figure size 432x288 with 1 Axes>"
      ]
     },
     "metadata": {},
     "output_type": "display_data"
    }
   ],
   "source": [
    "#  Trial Stores (o) and Control Stores (x)\n",
    "months = ['07-2018', '08-2018', '09-2018', '10-2018', '11-2018', '12-2019', '01-2019']\n",
    "plt.plot(months, pretrial77_sales, marker='o', markerfacecolor='purple', markersize=12, color='violet', linewidth=4)\n",
    "plt.plot(months, pretrial233_sales, marker='s', markerfacecolor='purple', markersize=12, color='violet', linewidth=4)\n",
    "plt.plot(months, pretrial86_sales, marker='o', markerfacecolor='orange', markersize=12, color='yellow', linewidth=4)\n",
    "plt.plot(months, pretrial114_sales, marker='s', markerfacecolor='orange', markersize=12, color='yellow', linewidth=4)\n",
    "plt.plot(months, pretrial88_sales, marker='o', markerfacecolor='blue', markersize=12, color='lightblue', linewidth=4)\n",
    "plt.plot(months, pretrial14_sales, marker='s', markerfacecolor='blue', markersize=12, color='lightblue', linewidth=4)\n",
    "plt.xticks(rotation=90)\n",
    "plt.title('Total Sales in Pretrial Period')"
   ]
  },
  {
   "cell_type": "code",
   "execution_count": 92,
   "metadata": {},
   "outputs": [
    {
     "data": {
      "text/plain": [
       "Text(0.5,1,'Total Customers in Pretrial Period')"
      ]
     },
     "execution_count": 92,
     "metadata": {},
     "output_type": "execute_result"
    },
    {
     "data": {
      "image/png": "[encoded data removed]",
      "text/plain": [
       "<Figure size 432x288 with 1 Axes>"
      ]
     },
     "metadata": {},
     "output_type": "display_data"
    }
   ],
   "source": [
    "months = ['07-2018', '08-2018', '09-2018', '10-2018', '11-2018', '12-2019', '01-2019']\n",
    "plt.plot(months, pretrial77_customers, marker='o', markerfacecolor='purple', markersize=12, color='violet', linewidth=4)\n",
    "plt.plot(months, pretrial233_customers, marker='s', markerfacecolor='purple', markersize=12, color='violet', linewidth=4)\n",
    "plt.plot(months, pretrial86_customers, marker='o', markerfacecolor='orange', markersize=12, color='yellow', linewidth=4)\n",
    "plt.plot(months, pretrial114_customers, marker='s', markerfacecolor='orange', markersize=12, color='yellow', linewidth=4)\n",
    "plt.plot(months, pretrial88_customers, marker='o', markerfacecolor='blue', markersize=12, color='lightblue', linewidth=4)\n",
    "plt.plot(months, pretrial14_customers, marker='s', markerfacecolor='blue', markersize=12, color='lightblue', linewidth=4)\n",
    "plt.xticks(rotation=90)\n",
    "plt.title('Total Customers in Pretrial Period')"
   ]
  },
  {
   "cell_type": "markdown",
   "metadata": {},
   "source": [
    "### Uplift Analysis\n",
    "\n",
    "We wish to compare the performances of the trial stores to the performances of the control stores to determine if the performance of the trial stores improves significantly during the trial period relative to the control stores. If the metrics we have defined are improving in our trial stores during the trial period but not in the corresponding control stores this suggests that the new trial layouts are having a positive effect.\n",
    "\n",
    "In order to make this comparison, we can calculate a total sales vector, total customers vector and average transactions per customer vector for each trial store and its control during the pretrial period and the trial period. For each store and each metric we subtract the mean of the pretrial period vector from the mean of the trial period vector. If the difference in means is positive, there was an increase in that metric for that store during the trial period. We can do this for each trial store and put the differences in a vector, and for each control store and put the differences in a vector. We can then perform one-sided independent two sample t-tests to compare the vector of trial store differences and the vector of control store differences for each metric."
   ]
  },
  {
   "cell_type": "code",
   "execution_count": 28,
   "metadata": {},
   "outputs": [],
   "source": [
    "trial_233 = trial.loc[trial['STORE_NBR'] == 233]\n",
    "\n",
    "trial77_sales = total_sales(trial_77)\n",
    "trial233_sales = total_sales(trial_233)\n",
    "\n",
    "trial77_customers = total_customers(trial_77)\n",
    "trial233_customers = total_customers(trial_233)\n",
    "\n",
    "trial77_transactions = avg_transactions(trial_77)\n",
    "trial233_transactions = avg_transactions(trial_233)\n",
    "\n",
    "trial_114 = trial.loc[trial['STORE_NBR'] == 114]\n",
    "\n",
    "trial86_sales = total_sales(trial_86)\n",
    "trial114_sales = total_sales(trial_114)\n",
    "\n",
    "trial86_customers = total_customers(trial_86)\n",
    "trial114_customers = total_customers(trial_114)\n",
    "\n",
    "trial86_transactions = avg_transactions(trial_86)\n",
    "trial114_transactions = avg_transactions(trial_114)\n",
    "\n",
    "trial_14 = trial.loc[trial['STORE_NBR'] == 14]\n",
    "\n",
    "trial88_sales = total_sales(trial_88)\n",
    "trial14_sales = total_sales(trial_14)\n",
    "\n",
    "trial88_customers = total_customers(trial_88)\n",
    "trial14_customers = total_customers(trial_14)\n",
    "\n",
    "trial88_transactions = avg_transactions(trial_88)\n",
    "trial14_transactions = avg_transactions(trial_14)\n",
    "\n",
    "pretrial77_transactions = avg_transactions(pretrial_77)\n",
    "pretrial86_transactions = avg_transactions(pretrial_86)\n",
    "pretrial88_transactions = avg_transactions(pretrial_88)\n",
    "\n",
    "pretrial233_transactions = avg_transactions(pretrial_233)\n",
    "pretrial114_transactions = avg_transactions(pretrial_114)\n",
    "pretrial14_transactions = avg_transactions(pretrial_14)"
   ]
  },
  {
   "cell_type": "code",
   "execution_count": 62,
   "metadata": {
    "scrolled": true
   },
   "outputs": [],
   "source": [
    "diff_sales_77 = trial77_sales.mean() - pretrial77_sales.mean()\n",
    "diff_sales_86 = trial86_sales.mean() - pretrial86_sales.mean()\n",
    "diff_sales_88 = trial88_sales.mean() - pretrial88_sales.mean()\n",
    "\n",
    "diff_sales_233 = trial233_sales.mean() - pretrial233_sales.mean()\n",
    "diff_sales_114 = trial114_sales.mean() - pretrial114_sales.mean()\n",
    "diff_sales_14 = trial14_sales.mean() - pretrial14_sales.mean()\n",
    "\n",
    "diff_customers_77 = trial77_customers.mean() - pretrial77_customers.mean()\n",
    "diff_customers_86 = trial86_customers.mean() - pretrial86_customers.mean()\n",
    "diff_customers_88 = trial88_customers.mean() - pretrial88_customers.mean()\n",
    "\n",
    "diff_customers_233 = trial233_customers.mean() - pretrial233_customers.mean()\n",
    "diff_customers_114 = trial114_customers.mean() - pretrial114_customers.mean()\n",
    "diff_customers_14 = trial14_customers.mean() - pretrial14_customers.mean()\n",
    "\n",
    "diff_transactions_77 = trial77_transactions.mean() - pretrial77_transactions.mean()\n",
    "diff_transactions_86 = trial86_transactions.mean() - pretrial86_transactions.mean()\n",
    "diff_transactions_88 = trial88_transactions.mean() - pretrial88_transactions.mean()\n",
    "\n",
    "diff_transactions_233 = trial233_transactions.mean() - pretrial233_transactions.mean()\n",
    "diff_transactions_114 = trial114_transactions.mean() - pretrial114_transactions.mean()\n",
    "diff_transactions_14 = trial14_transactions.mean() - pretrial14_transactions.mean()\n",
    "\n",
    "\n",
    "diff_sales_trial = [diff_sales_77, diff_sales_86, diff_sales_88]\n",
    "diff_sales_control = [diff_sales_233, diff_sales_114, diff_sales_14]\n",
    "diff_customers_trial = [diff_customers_77, diff_customers_86, diff_customers_88]\n",
    "diff_customers_control = [diff_customers_233, diff_customers_114, diff_customers_14]\n",
    "diff_transactions_trial = [diff_transactions_77, diff_transactions_86, diff_transactions_88]\n",
    "diff_transactions_control = [diff_transactions_233, diff_transactions_114, diff_transactions_14]"
   ]
  },
  {
   "cell_type": "markdown",
   "metadata": {},
   "source": [
    "#### Line Plots Demonstrating Divergence over Trial Period"
   ]
  },
  {
   "cell_type": "code",
   "execution_count": 95,
   "metadata": {},
   "outputs": [
    {
     "data": {
      "text/plain": [
       "Text(0.5,1,'Total Sales in Trial Period')"
      ]
     },
     "execution_count": 95,
     "metadata": {},
     "output_type": "execute_result"
    },
    {
     "data": {
      "image/png": "[encoded data removed]",
      "text/plain": [
       "<Figure size 432x288 with 1 Axes>"
      ]
     },
     "metadata": {},
     "output_type": "display_data"
    }
   ],
   "source": [
    "months = ['02-2019', '03-2019', '04-2019']\n",
    "plt.plot(months, trial77_sales, marker='o', markerfacecolor='purple', markersize=12, color='violet', linewidth=4)\n",
    "plt.plot(months, trial233_sales, marker='s', markerfacecolor='purple', markersize=12, color='violet', linewidth=4)\n",
    "plt.plot(months, trial86_sales, marker='o', markerfacecolor='orange', markersize=12, color='yellow', linewidth=4)\n",
    "plt.plot(months, trial114_sales, marker='s', markerfacecolor='orange', markersize=12, color='yellow', linewidth=4)\n",
    "plt.plot(months, trial88_sales, marker='o', markerfacecolor='blue', markersize=12, color='lightblue', linewidth=4)\n",
    "plt.plot(months, trial14_sales, marker='s', markerfacecolor='blue', markersize=12, color='lightblue', linewidth=4)\n",
    "plt.xticks(rotation=90)\n",
    "plt.title('Total Sales in Trial Period')"
   ]
  },
  {
   "cell_type": "code",
   "execution_count": 96,
   "metadata": {},
   "outputs": [
    {
     "data": {
      "text/plain": [
       "Text(0.5,1,'Total Customers in Trial Period')"
      ]
     },
     "execution_count": 96,
     "metadata": {},
     "output_type": "execute_result"
    },
    {
     "data": {
      "image/png": "[encoded data removed]",
      "text/plain": [
       "<Figure size 432x288 with 1 Axes>"
      ]
     },
     "metadata": {},
     "output_type": "display_data"
    }
   ],
   "source": [
    "months = ['02-2019', '03-2019', '04-2019']\n",
    "plt.plot(months, trial77_customers, marker='o', markerfacecolor='purple', markersize=12, color='violet', linewidth=4)\n",
    "plt.plot(months, trial233_customers, marker='s', markerfacecolor='purple', markersize=12, color='violet', linewidth=4)\n",
    "plt.plot(months, trial86_customers, marker='o', markerfacecolor='orange', markersize=12, color='yellow', linewidth=4)\n",
    "plt.plot(months, trial114_customers, marker='s', markerfacecolor='orange', markersize=12, color='yellow', linewidth=4)\n",
    "plt.plot(months, trial88_customers, marker='o', markerfacecolor='blue', markersize=12, color='lightblue', linewidth=4)\n",
    "plt.plot(months, trial14_customers, marker='s', markerfacecolor='blue', markersize=12, color='lightblue', linewidth=4)\n",
    "plt.xticks(rotation=90)\n",
    "plt.title('Total Customers in Trial Period')"
   ]
  },
  {
   "cell_type": "markdown",
   "metadata": {},
   "source": [
    "#### One-Tailed Independent Two Sample t-tests\n",
    "\n",
    "We perform t-tests by metric to determine if there is a significant improvement in the performance of the trial stores over the control stores for a given metric during the trial period.\n",
    "\n",
    "For each test we have two independent samples with 3 observations (one for each store in the sample). Each of these observations is the difference in the mean of a given metric over the trial period from the mean of the metric during the pre-trial period. If the difference is positive, this indicates that store performed better on  that metric over that trial period.\n",
    "\n",
    "In each t-test, one sample contains differences for the trial stores and the other sample contains differences for the control stores. We wish to determine if the differences for the trial stores are significantly greater than those for the control stores for each metric, so we will perform a one-tailed independent two sampled t-test for each metric.\n",
    "\n",
    "For each metric, we will be testing the hypotheses:\n",
    "\n",
    "- H0: trial store differences mean <= control store differences mean\n",
    "\n",
    "- H1: trial store differences mean > control store differences mean\n",
    "\n",
    "We will test these at the 5% significance level.\n",
    "\n",
    "In each case, we divide the p-value by 2 because the t-test in the python stats module is two-tailed and we are interested in testing a one-tailed hypothesis. When taken in combination with the observed test statistic, we can adapt this to a one-tailed test. If the p-value < 0.05 and the test statistic is positive there is evidence to reject the null hypothesis.\n",
    "\n",
    "We find that for the total sales metric, the observed test statistic of 3.03 is positive and gives a low p-value of 0.036 < 0.05, suggesting that there is evidence that we should reject the null hypothesis that the mean of the trial store differences is less than or equal to the mean of the control store differences.\n",
    "\n",
    "For the total customers metric, the observed test statistic of 4.68 is also positive and gives an even lower p-value of 0.013 < 0.05, again suggesting that there is evidence that we should reject the null hypothesis.\n",
    "\n",
    "For the average transactions per customer metric, the observed test statistic -0.40 is negative, indicating that the mean for the trial stores is less than the mean for the control stores. The p-value is higher at 0.361 > 0.05. So we can not reject the null hypothesis that there is no difference in results between trial and control stores on this metric. These results aren't surprising since we did not select control stores based on correlation on this metric. \n",
    "\n",
    "Thus we conclude that there is evidence to suggest that the trial stores performed better on total sales and total customers during the trial period relative to the control stores, but not in average transactions per customer."
   ]
  },
  {
   "cell_type": "code",
   "execution_count": 63,
   "metadata": {},
   "outputs": [
    {
     "name": "stdout",
     "output_type": "stream",
     "text": [
      "Total Sales Metric p-value:  0.036\n",
      "Total Sales Metric observed test statistic:  3.031\n",
      "\n",
      "Total Customers Metric p-value:  0.013\n",
      "Total Customers Metric observed test statistic:  4.686\n",
      "\n",
      "Average Transactions Per Customer Metric p-value:  0.361\n",
      "Average Transactions Per Customer Metric observed test statistic:  -0.405\n"
     ]
    }
   ],
   "source": [
    "sales_t = stats.ttest_ind(diff_sales_trial, diff_sales_control, equal_var=False)\n",
    "customers_t = stats.ttest_ind(diff_customers_trial, diff_customers_control, equal_var=False)\n",
    "transactions_t = stats.ttest_ind(diff_transactions_trial, diff_transactions_control, equal_var=False)\n",
    "\n",
    "print('Total Sales Metric p-value: ', round(sales_t.pvalue/2, 3))\n",
    "print('Total Sales Metric observed test statistic: ',  round(sales_t.statistic, 3))\n",
    "print()\n",
    "print('Total Customers Metric p-value: ', round(customers_t.pvalue/2, 3))\n",
    "print('Total Customers Metric observed test statistic: ', round(customers_t.statistic, 3))\n",
    "print()\n",
    "print('Average Transactions Per Customer Metric p-value: ', round(transactions_t.pvalue/2, 3))\n",
    "print('Average Transactions Per Customer Metric observed test statistic: ', round(transactions_t.statistic, 3))"
   ]
  },
  {
   "cell_type": "markdown",
   "metadata": {},
   "source": [
    "#### Plotting Distribution of Differences in Metrics over Trial and Control Stores\n",
    "\n",
    "From the first pair of box plots we see that total sales went up during the trial period for all the trial stores and went down for all the control stores.\n",
    "\n",
    "From the second pair of box plots we see a similar result with the total number of customers going up for all 3 trial stores over the trial period and going down for the 3 control stores.\n",
    "\n",
    "In the last pair of box plots we see that the trial stores had a greater range of differences in average transactions per customer between the pretrial and trial periods, with some stores seeing this average go down in the trial period. In contrast the control stores all saw this average go up over the trial period.\n",
    "\n",
    "So these plots also support the inference that the trial layouts have had positive results for total sales and total customers, but not for average number of transactions per customer."
   ]
  },
  {
   "cell_type": "code",
   "execution_count": 64,
   "metadata": {},
   "outputs": [
    {
     "data": {
      "text/plain": [
       "Text(0.5,1,'Total Sales')"
      ]
     },
     "execution_count": 64,
     "metadata": {},
     "output_type": "execute_result"
    },
    {
     "data": {
      "image/png": "[encoded data removed]",
      "text/plain": [
       "<Figure size 432x288 with 1 Axes>"
      ]
     },
     "metadata": {},
     "output_type": "display_data"
    }
   ],
   "source": [
    "sales_diffs = {'Differences': [diff_sales_77, diff_sales_86, diff_sales_88, diff_sales_233, diff_sales_114, diff_sales_14], 'Store Type': ['Trial', 'Trial', 'Trial', 'Control', 'Control', 'Control']}\n",
    "sales_diffs_df = pd.DataFrame(data=sales_diffs)\n",
    "sns.boxplot(x='Store Type', y='Differences', data=sales_diffs_df)\n",
    "plt.title('Total Sales')"
   ]
  },
  {
   "cell_type": "code",
   "execution_count": 65,
   "metadata": {},
   "outputs": [
    {
     "data": {
      "text/plain": [
       "Text(0.5,1,'Total Customers')"
      ]
     },
     "execution_count": 65,
     "metadata": {},
     "output_type": "execute_result"
    },
    {
     "data": {
      "image/png": "[encoded data removed]",
      "text/plain": [
       "<Figure size 432x288 with 1 Axes>"
      ]
     },
     "metadata": {},
     "output_type": "display_data"
    }
   ],
   "source": [
    "customers_diffs = {'Differences': [diff_customers_77, diff_customers_86, diff_customers_88, diff_customers_233, diff_customers_114, diff_customers_14], 'Store Type': ['Trial', 'Trial', 'Trial', 'Control', 'Control', 'Control']}\n",
    "customers_diffs_df = pd.DataFrame(data=customers_diffs)\n",
    "sns.boxplot(x='Store Type', y='Differences', data=customers_diffs_df)\n",
    "plt.title('Total Customers')"
   ]
  },
  {
   "cell_type": "code",
   "execution_count": 66,
   "metadata": {},
   "outputs": [
    {
     "data": {
      "text/plain": [
       "Text(0.5,1,'Average Transactions Per Customer')"
      ]
     },
     "execution_count": 66,
     "metadata": {},
     "output_type": "execute_result"
    },
    {
     "data": {
      "image/png": "[encoded data removed]",
      "text/plain": [
       "<Figure size 432x288 with 1 Axes>"
      ]
     },
     "metadata": {},
     "output_type": "display_data"
    }
   ],
   "source": [
    "transactions_diffs = {'Differences': [diff_transactions_77, diff_transactions_86, diff_transactions_88, diff_transactions_233, diff_transactions_114, diff_transactions_14], 'Store Type': ['Trial', 'Trial', 'Trial', 'Control', 'Control', 'Control']}\n",
    "transactions_diffs_df = pd.DataFrame(data=transactions_diffs)\n",
    "sns.boxplot(x='Store Type', y='Differences', data=transactions_diffs_df)\n",
    "plt.title('Average Transactions Per Customer')"
   ]
  },
  {
   "cell_type": "markdown",
   "metadata": {},
   "source": [
    "### Findings\n",
    "\n",
    "Through the uplift analysis, comparing the changes in 3 metrics over the trial period for three trial-control store pairs, we have found that in two of the metrics, total sales and total customers, the trial stores experienced a significant improvement compared to the control stores. In the last metric, average number of transactions per customer, there was not an improvement.\n",
    "\n",
    "We can use these results to infer that the improvement in total sales was not due to an increase in average sales per customer, but due to an increase in total number of unique customers making transactions at the trial stores. As such we can recommend to the category manager for chips that the new trial layouts appear to have a beneficial effect on total sales and total customers.\n",
    "\n",
    "As we did not select control stores by taking the last metric into account, further analysis might go about the selection of control stores differently. It would be possible to select several control stores for each trial store based on how strongly a given store correlates with the trial store on a single metric like total sales. In this way, the metrics could be better isolated and the effects of the trial layout on the performance of each metric could be even more clearly determined."
   ]
  }
 ],
 "metadata": {
  "kernelspec": {
   "display_name": "Python 3",
   "language": "python",
   "name": "python3"
  },
  "language_info": {
   "codemirror_mode": {
    "name": "ipython",
    "version": 3
   },
   "file_extension": ".py",
   "mimetype": "text/x-python",
   "name": "python",
   "nbconvert_exporter": "python",
   "pygments_lexer": "ipython3",
   "version": "3.6.5"
  }
 },
 "nbformat": 4,
 "nbformat_minor": 2
}
